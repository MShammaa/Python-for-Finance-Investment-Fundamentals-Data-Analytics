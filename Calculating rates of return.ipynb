{
 "cells": [
  {
   "cell_type": "code",
   "execution_count": 17,
   "metadata": {},
   "outputs": [
    {
     "data": {
      "text/html": [
       "<div>\n",
       "<style scoped>\n",
       "    .dataframe tbody tr th:only-of-type {\n",
       "        vertical-align: middle;\n",
       "    }\n",
       "\n",
       "    .dataframe tbody tr th {\n",
       "        vertical-align: top;\n",
       "    }\n",
       "\n",
       "    .dataframe thead th {\n",
       "        text-align: right;\n",
       "    }\n",
       "</style>\n",
       "<table border=\"1\" class=\"dataframe\">\n",
       "  <thead>\n",
       "    <tr style=\"text-align: right;\">\n",
       "      <th></th>\n",
       "      <th>Date</th>\n",
       "      <th>Open</th>\n",
       "      <th>High</th>\n",
       "      <th>Low</th>\n",
       "      <th>Close</th>\n",
       "      <th>Adj Close</th>\n",
       "      <th>Volume</th>\n",
       "    </tr>\n",
       "  </thead>\n",
       "  <tbody>\n",
       "    <tr>\n",
       "      <th>0</th>\n",
       "      <td>1995-01-03</td>\n",
       "      <td>15.46875</td>\n",
       "      <td>15.62500</td>\n",
       "      <td>15.43750</td>\n",
       "      <td>62.375</td>\n",
       "      <td>15.59375</td>\n",
       "      <td>3318400</td>\n",
       "    </tr>\n",
       "    <tr>\n",
       "      <th>1</th>\n",
       "      <td>1995-01-04</td>\n",
       "      <td>15.53125</td>\n",
       "      <td>15.65625</td>\n",
       "      <td>15.31250</td>\n",
       "      <td>61.875</td>\n",
       "      <td>15.46875</td>\n",
       "      <td>2218800</td>\n",
       "    </tr>\n",
       "    <tr>\n",
       "      <th>2</th>\n",
       "      <td>1995-01-05</td>\n",
       "      <td>15.37500</td>\n",
       "      <td>15.43750</td>\n",
       "      <td>15.21875</td>\n",
       "      <td>61.000</td>\n",
       "      <td>15.25000</td>\n",
       "      <td>2319600</td>\n",
       "    </tr>\n",
       "    <tr>\n",
       "      <th>3</th>\n",
       "      <td>1995-01-06</td>\n",
       "      <td>15.15625</td>\n",
       "      <td>15.40625</td>\n",
       "      <td>15.15625</td>\n",
       "      <td>61.125</td>\n",
       "      <td>15.28125</td>\n",
       "      <td>3438000</td>\n",
       "    </tr>\n",
       "    <tr>\n",
       "      <th>4</th>\n",
       "      <td>1995-01-09</td>\n",
       "      <td>15.34375</td>\n",
       "      <td>15.40625</td>\n",
       "      <td>15.18750</td>\n",
       "      <td>60.875</td>\n",
       "      <td>15.21875</td>\n",
       "      <td>1795200</td>\n",
       "    </tr>\n",
       "  </tbody>\n",
       "</table>\n",
       "</div>"
      ],
      "text/plain": [
       "         Date      Open      High       Low   Close  Adj Close   Volume\n",
       "0  1995-01-03  15.46875  15.62500  15.43750  62.375   15.59375  3318400\n",
       "1  1995-01-04  15.53125  15.65625  15.31250  61.875   15.46875  2218800\n",
       "2  1995-01-05  15.37500  15.43750  15.21875  61.000   15.25000  2319600\n",
       "3  1995-01-06  15.15625  15.40625  15.15625  61.125   15.28125  3438000\n",
       "4  1995-01-09  15.34375  15.40625  15.18750  60.875   15.21875  1795200"
      ]
     },
     "execution_count": 17,
     "metadata": {},
     "output_type": "execute_result"
    }
   ],
   "source": [
    "#63_Calculating a security's Rate of Return\n",
    "\n",
    "import numpy as np\n",
    "import pandas as pd \n",
    "from pandas_datareader import data as wb\n",
    "import matplotlib.pyplot as plt \n",
    "\n",
    "#from excel file\n",
    "\n",
    "PG = pd.read_csv('C:/Users/mdx/Documents/Python/Python for Finance Investment Fundamentals & Data Analytics_Udemy/PG_1995-03_23_2017.csv')\n",
    "\n",
    "PG.head()"
   ]
  },
  {
   "cell_type": "code",
   "execution_count": 15,
   "metadata": {},
   "outputs": [
    {
     "data": {
      "text/html": [
       "<div>\n",
       "<style scoped>\n",
       "    .dataframe tbody tr th:only-of-type {\n",
       "        vertical-align: middle;\n",
       "    }\n",
       "\n",
       "    .dataframe tbody tr th {\n",
       "        vertical-align: top;\n",
       "    }\n",
       "\n",
       "    .dataframe thead th {\n",
       "        text-align: right;\n",
       "    }\n",
       "</style>\n",
       "<table border=\"1\" class=\"dataframe\">\n",
       "  <thead>\n",
       "    <tr style=\"text-align: right;\">\n",
       "      <th></th>\n",
       "      <th>Open</th>\n",
       "      <th>High</th>\n",
       "      <th>Low</th>\n",
       "      <th>Close</th>\n",
       "      <th>Adj Close</th>\n",
       "      <th>Volume</th>\n",
       "    </tr>\n",
       "    <tr>\n",
       "      <th>Date</th>\n",
       "      <th></th>\n",
       "      <th></th>\n",
       "      <th></th>\n",
       "      <th></th>\n",
       "      <th></th>\n",
       "      <th></th>\n",
       "    </tr>\n",
       "  </thead>\n",
       "  <tbody>\n",
       "    <tr>\n",
       "      <th>1995-01-03</th>\n",
       "      <td>15.46875</td>\n",
       "      <td>15.62500</td>\n",
       "      <td>15.43750</td>\n",
       "      <td>62.375</td>\n",
       "      <td>15.59375</td>\n",
       "      <td>3318400</td>\n",
       "    </tr>\n",
       "    <tr>\n",
       "      <th>1995-01-04</th>\n",
       "      <td>15.53125</td>\n",
       "      <td>15.65625</td>\n",
       "      <td>15.31250</td>\n",
       "      <td>61.875</td>\n",
       "      <td>15.46875</td>\n",
       "      <td>2218800</td>\n",
       "    </tr>\n",
       "    <tr>\n",
       "      <th>1995-01-05</th>\n",
       "      <td>15.37500</td>\n",
       "      <td>15.43750</td>\n",
       "      <td>15.21875</td>\n",
       "      <td>61.000</td>\n",
       "      <td>15.25000</td>\n",
       "      <td>2319600</td>\n",
       "    </tr>\n",
       "    <tr>\n",
       "      <th>1995-01-06</th>\n",
       "      <td>15.15625</td>\n",
       "      <td>15.40625</td>\n",
       "      <td>15.15625</td>\n",
       "      <td>61.125</td>\n",
       "      <td>15.28125</td>\n",
       "      <td>3438000</td>\n",
       "    </tr>\n",
       "    <tr>\n",
       "      <th>1995-01-09</th>\n",
       "      <td>15.34375</td>\n",
       "      <td>15.40625</td>\n",
       "      <td>15.18750</td>\n",
       "      <td>60.875</td>\n",
       "      <td>15.21875</td>\n",
       "      <td>1795200</td>\n",
       "    </tr>\n",
       "  </tbody>\n",
       "</table>\n",
       "</div>"
      ],
      "text/plain": [
       "                Open      High       Low   Close  Adj Close   Volume\n",
       "Date                                                                \n",
       "1995-01-03  15.46875  15.62500  15.43750  62.375   15.59375  3318400\n",
       "1995-01-04  15.53125  15.65625  15.31250  61.875   15.46875  2218800\n",
       "1995-01-05  15.37500  15.43750  15.21875  61.000   15.25000  2319600\n",
       "1995-01-06  15.15625  15.40625  15.15625  61.125   15.28125  3438000\n",
       "1995-01-09  15.34375  15.40625  15.18750  60.875   15.21875  1795200"
      ]
     },
     "execution_count": 15,
     "metadata": {},
     "output_type": "execute_result"
    }
   ],
   "source": [
    "PG = PG.set_index('Date')\n",
    "PG.head()"
   ]
  },
  {
   "cell_type": "markdown",
   "metadata": {},
   "source": [
    "### Simple rate of return\n",
    "$$\n",
    "\\frac{P_1 - P_0}{P_0} = \\frac{P_1}{P_0} - 1\n",
    "$$"
   ]
  },
  {
   "cell_type": "code",
   "execution_count": 19,
   "metadata": {},
   "outputs": [
    {
     "name": "stdout",
     "output_type": "stream",
     "text": [
      "0            NaN\n",
      "1      -0.008016\n",
      "2      -0.014141\n",
      "3       0.002049\n",
      "4      -0.004090\n",
      "5       0.012320\n",
      "6      -0.002028\n",
      "7       0.010163\n",
      "8       0.006036\n",
      "9       0.008000\n",
      "10      0.003968\n",
      "11     -0.021739\n",
      "12     -0.004040\n",
      "13     -0.004057\n",
      "14      0.010183\n",
      "15     -0.002016\n",
      "16      0.014141\n",
      "17      0.003984\n",
      "18      0.027778\n",
      "19      0.015444\n",
      "20     -0.009506\n",
      "21     -0.019194\n",
      "22      0.007828\n",
      "23      0.009709\n",
      "24      0.023077\n",
      "25     -0.001880\n",
      "26     -0.011299\n",
      "27     -0.001905\n",
      "28     -0.001908\n",
      "29      0.007648\n",
      "          ...   \n",
      "5566    0.003849\n",
      "5567   -0.007894\n",
      "5568    0.003865\n",
      "5569   -0.005096\n",
      "5570    0.037105\n",
      "5571   -0.003622\n",
      "5572    0.003304\n",
      "5573    0.006367\n",
      "5574   -0.002509\n",
      "5575   -0.003390\n",
      "5576   -0.000878\n",
      "5577   -0.001757\n",
      "5578    0.001980\n",
      "5579    0.006479\n",
      "5580   -0.008182\n",
      "5581   -0.004510\n",
      "5582   -0.001436\n",
      "5583   -0.000885\n",
      "5584   -0.001661\n",
      "5585    0.002219\n",
      "5586    0.008081\n",
      "5587    0.002635\n",
      "5588   -0.003395\n",
      "5589    0.004396\n",
      "5590    0.000438\n",
      "5591   -0.004812\n",
      "5592    0.002418\n",
      "5593   -0.000329\n",
      "5594   -0.002193\n",
      "5595   -0.002418\n",
      "Name: simple_return, Length: 5596, dtype: float64\n"
     ]
    }
   ],
   "source": [
    "PG['simple_return'] = (PG['Close'] / PG['Close'].shift(1)) - 1\n",
    "print(PG['simple_return'])\n"
   ]
  },
  {
   "cell_type": "code",
   "execution_count": 20,
   "metadata": {},
   "outputs": [
    {
     "data": {
      "text/html": [
       "<div>\n",
       "<style scoped>\n",
       "    .dataframe tbody tr th:only-of-type {\n",
       "        vertical-align: middle;\n",
       "    }\n",
       "\n",
       "    .dataframe tbody tr th {\n",
       "        vertical-align: top;\n",
       "    }\n",
       "\n",
       "    .dataframe thead th {\n",
       "        text-align: right;\n",
       "    }\n",
       "</style>\n",
       "<table border=\"1\" class=\"dataframe\">\n",
       "  <thead>\n",
       "    <tr style=\"text-align: right;\">\n",
       "      <th></th>\n",
       "      <th>Date</th>\n",
       "      <th>Open</th>\n",
       "      <th>High</th>\n",
       "      <th>Low</th>\n",
       "      <th>Close</th>\n",
       "      <th>Adj Close</th>\n",
       "      <th>Volume</th>\n",
       "      <th>simple_return</th>\n",
       "    </tr>\n",
       "  </thead>\n",
       "  <tbody>\n",
       "    <tr>\n",
       "      <th>0</th>\n",
       "      <td>1995-01-03</td>\n",
       "      <td>15.46875</td>\n",
       "      <td>15.62500</td>\n",
       "      <td>15.43750</td>\n",
       "      <td>62.375</td>\n",
       "      <td>15.59375</td>\n",
       "      <td>3318400</td>\n",
       "      <td>NaN</td>\n",
       "    </tr>\n",
       "    <tr>\n",
       "      <th>1</th>\n",
       "      <td>1995-01-04</td>\n",
       "      <td>15.53125</td>\n",
       "      <td>15.65625</td>\n",
       "      <td>15.31250</td>\n",
       "      <td>61.875</td>\n",
       "      <td>15.46875</td>\n",
       "      <td>2218800</td>\n",
       "      <td>-0.008016</td>\n",
       "    </tr>\n",
       "    <tr>\n",
       "      <th>2</th>\n",
       "      <td>1995-01-05</td>\n",
       "      <td>15.37500</td>\n",
       "      <td>15.43750</td>\n",
       "      <td>15.21875</td>\n",
       "      <td>61.000</td>\n",
       "      <td>15.25000</td>\n",
       "      <td>2319600</td>\n",
       "      <td>-0.014141</td>\n",
       "    </tr>\n",
       "    <tr>\n",
       "      <th>3</th>\n",
       "      <td>1995-01-06</td>\n",
       "      <td>15.15625</td>\n",
       "      <td>15.40625</td>\n",
       "      <td>15.15625</td>\n",
       "      <td>61.125</td>\n",
       "      <td>15.28125</td>\n",
       "      <td>3438000</td>\n",
       "      <td>0.002049</td>\n",
       "    </tr>\n",
       "    <tr>\n",
       "      <th>4</th>\n",
       "      <td>1995-01-09</td>\n",
       "      <td>15.34375</td>\n",
       "      <td>15.40625</td>\n",
       "      <td>15.18750</td>\n",
       "      <td>60.875</td>\n",
       "      <td>15.21875</td>\n",
       "      <td>1795200</td>\n",
       "      <td>-0.004090</td>\n",
       "    </tr>\n",
       "  </tbody>\n",
       "</table>\n",
       "</div>"
      ],
      "text/plain": [
       "         Date      Open      High       Low   Close  Adj Close   Volume  \\\n",
       "0  1995-01-03  15.46875  15.62500  15.43750  62.375   15.59375  3318400   \n",
       "1  1995-01-04  15.53125  15.65625  15.31250  61.875   15.46875  2218800   \n",
       "2  1995-01-05  15.37500  15.43750  15.21875  61.000   15.25000  2319600   \n",
       "3  1995-01-06  15.15625  15.40625  15.15625  61.125   15.28125  3438000   \n",
       "4  1995-01-09  15.34375  15.40625  15.18750  60.875   15.21875  1795200   \n",
       "\n",
       "   simple_return  \n",
       "0            NaN  \n",
       "1      -0.008016  \n",
       "2      -0.014141  \n",
       "3       0.002049  \n",
       "4      -0.004090  "
      ]
     },
     "execution_count": 20,
     "metadata": {},
     "output_type": "execute_result"
    }
   ],
   "source": [
    "PG.head()"
   ]
  },
  {
   "cell_type": "code",
   "execution_count": 32,
   "metadata": {},
   "outputs": [
    {
     "name": "stdout",
     "output_type": "stream",
     "text": [
      "Date\n",
      "1995-01-03         NaN\n",
      "1995-01-04   -0.008016\n",
      "1995-01-05   -0.014142\n",
      "1995-01-06    0.002049\n",
      "1995-01-09   -0.004090\n",
      "1995-01-10    0.012320\n",
      "1995-01-11   -0.002028\n",
      "1995-01-12    0.010163\n",
      "1995-01-13    0.029229\n",
      "1995-01-16    0.008001\n",
      "1995-01-17    0.003968\n",
      "1995-01-18   -0.021739\n",
      "1995-01-19   -0.004041\n",
      "1995-01-20   -0.004057\n",
      "1995-01-23    0.010183\n",
      "1995-01-24   -0.002016\n",
      "1995-01-25    0.014141\n",
      "1995-01-26    0.003984\n",
      "1995-01-27    0.027778\n",
      "1995-01-30    0.015444\n",
      "1995-01-31   -0.009506\n",
      "1995-02-01   -0.019194\n",
      "1995-02-02    0.007828\n",
      "1995-02-03    0.009709\n",
      "1995-02-06    0.023077\n",
      "1995-02-07   -0.001880\n",
      "1995-02-08   -0.011300\n",
      "1995-02-09   -0.001905\n",
      "1995-02-10   -0.001908\n",
      "1995-02-13    0.007648\n",
      "                ...   \n",
      "2020-04-07   -0.042781\n",
      "2020-04-08    0.020661\n",
      "2020-04-09   -0.003823\n",
      "2020-04-13    0.011251\n",
      "2020-04-14    0.043208\n",
      "2020-04-15    0.002149\n",
      "2020-04-16    0.002310\n",
      "2020-04-17    0.026255\n",
      "2020-04-20   -0.032801\n",
      "2020-04-21   -0.007629\n",
      "2020-04-22   -0.002340\n",
      "2020-04-23    0.006669\n",
      "2020-04-24   -0.005193\n",
      "2020-04-27   -0.011197\n",
      "2020-04-28   -0.004768\n",
      "2020-04-29    0.001625\n",
      "2020-04-30    0.006748\n",
      "2020-05-01   -0.008908\n",
      "2020-05-04   -0.008988\n",
      "2020-05-05    0.002073\n",
      "2020-05-06   -0.025084\n",
      "2020-05-07   -0.008223\n",
      "2020-05-08    0.033699\n",
      "2020-05-11   -0.005520\n",
      "2020-05-12   -0.006591\n",
      "2020-05-13   -0.005500\n",
      "2020-05-14   -0.000966\n",
      "2020-05-15    0.007029\n",
      "2020-05-18    0.013960\n",
      "2020-05-19   -0.021427\n",
      "Name: simple_return, Length: 6390, dtype: float64\n"
     ]
    },
    {
     "data": {
      "text/html": [
       "<div>\n",
       "<style scoped>\n",
       "    .dataframe tbody tr th:only-of-type {\n",
       "        vertical-align: middle;\n",
       "    }\n",
       "\n",
       "    .dataframe tbody tr th {\n",
       "        vertical-align: top;\n",
       "    }\n",
       "\n",
       "    .dataframe thead th {\n",
       "        text-align: right;\n",
       "    }\n",
       "</style>\n",
       "<table border=\"1\" class=\"dataframe\">\n",
       "  <thead>\n",
       "    <tr style=\"text-align: right;\">\n",
       "      <th></th>\n",
       "      <th>High</th>\n",
       "      <th>Low</th>\n",
       "      <th>Open</th>\n",
       "      <th>Close</th>\n",
       "      <th>Volume</th>\n",
       "      <th>Adj Close</th>\n",
       "      <th>simple_return</th>\n",
       "    </tr>\n",
       "    <tr>\n",
       "      <th>Date</th>\n",
       "      <th></th>\n",
       "      <th></th>\n",
       "      <th></th>\n",
       "      <th></th>\n",
       "      <th></th>\n",
       "      <th></th>\n",
       "      <th></th>\n",
       "    </tr>\n",
       "  </thead>\n",
       "  <tbody>\n",
       "    <tr>\n",
       "      <th>1995-01-03</th>\n",
       "      <td>15.62500</td>\n",
       "      <td>15.43750</td>\n",
       "      <td>15.46875</td>\n",
       "      <td>15.59375</td>\n",
       "      <td>3318400.0</td>\n",
       "      <td>6.320252</td>\n",
       "      <td>NaN</td>\n",
       "    </tr>\n",
       "    <tr>\n",
       "      <th>1995-01-04</th>\n",
       "      <td>15.65625</td>\n",
       "      <td>15.31250</td>\n",
       "      <td>15.53125</td>\n",
       "      <td>15.46875</td>\n",
       "      <td>2218800.0</td>\n",
       "      <td>6.269589</td>\n",
       "      <td>-0.008016</td>\n",
       "    </tr>\n",
       "    <tr>\n",
       "      <th>1995-01-05</th>\n",
       "      <td>15.43750</td>\n",
       "      <td>15.21875</td>\n",
       "      <td>15.37500</td>\n",
       "      <td>15.25000</td>\n",
       "      <td>2319600.0</td>\n",
       "      <td>6.180927</td>\n",
       "      <td>-0.014142</td>\n",
       "    </tr>\n",
       "    <tr>\n",
       "      <th>1995-01-06</th>\n",
       "      <td>15.40625</td>\n",
       "      <td>15.15625</td>\n",
       "      <td>15.15625</td>\n",
       "      <td>15.28125</td>\n",
       "      <td>3438000.0</td>\n",
       "      <td>6.193593</td>\n",
       "      <td>0.002049</td>\n",
       "    </tr>\n",
       "    <tr>\n",
       "      <th>1995-01-09</th>\n",
       "      <td>15.40625</td>\n",
       "      <td>15.18750</td>\n",
       "      <td>15.34375</td>\n",
       "      <td>15.21875</td>\n",
       "      <td>1795200.0</td>\n",
       "      <td>6.168259</td>\n",
       "      <td>-0.004090</td>\n",
       "    </tr>\n",
       "  </tbody>\n",
       "</table>\n",
       "</div>"
      ],
      "text/plain": [
       "                High       Low      Open     Close     Volume  Adj Close  \\\n",
       "Date                                                                       \n",
       "1995-01-03  15.62500  15.43750  15.46875  15.59375  3318400.0   6.320252   \n",
       "1995-01-04  15.65625  15.31250  15.53125  15.46875  2218800.0   6.269589   \n",
       "1995-01-05  15.43750  15.21875  15.37500  15.25000  2319600.0   6.180927   \n",
       "1995-01-06  15.40625  15.15625  15.15625  15.28125  3438000.0   6.193593   \n",
       "1995-01-09  15.40625  15.18750  15.34375  15.21875  1795200.0   6.168259   \n",
       "\n",
       "            simple_return  \n",
       "Date                       \n",
       "1995-01-03            NaN  \n",
       "1995-01-04      -0.008016  \n",
       "1995-01-05      -0.014142  \n",
       "1995-01-06       0.002049  \n",
       "1995-01-09      -0.004090  "
      ]
     },
     "execution_count": 32,
     "metadata": {},
     "output_type": "execute_result"
    }
   ],
   "source": [
    "#from online data resource (Yahoo)\n",
    "\n",
    "PG = wb.DataReader('PG', data_source = 'yahoo', start = '1995-1-1')\n",
    "\n",
    "PG['simple_return'] = (PG['Adj Close'] / PG['Adj Close'].shift(1)) - 1\n",
    "print(PG['simple_return'])\n",
    "\n",
    "PG.head()"
   ]
  },
  {
   "cell_type": "code",
   "execution_count": 33,
   "metadata": {},
   "outputs": [
    {
     "data": {
      "image/png": "[encoded data removed]",
      "text/plain": [
       "<Figure size 576x360 with 1 Axes>"
      ]
     },
     "metadata": {
      "needs_background": "light"
     },
     "output_type": "display_data"
    }
   ],
   "source": [
    "#64_Calculating a security's Rate of Return\n",
    "\n",
    "#plot the result\n",
    "\n",
    "PG['simple_return'].plot(figsize = (8, 5))\n",
    "plt.show()"
   ]
  },
  {
   "cell_type": "code",
   "execution_count": 34,
   "metadata": {},
   "outputs": [
    {
     "data": {
      "text/plain": [
       "0.13907335453540565"
      ]
     },
     "execution_count": 34,
     "metadata": {},
     "output_type": "execute_result"
    }
   ],
   "source": [
    "#Estimate the average annual return\n",
    "\n",
    "avg_return_a = PG['simple_return'].mean() * 250\n",
    "avg_return_a"
   ]
  },
  {
   "cell_type": "code",
   "execution_count": 35,
   "metadata": {},
   "outputs": [
    {
     "name": "stdout",
     "output_type": "stream",
     "text": [
      "13.907%\n"
     ]
    }
   ],
   "source": [
    "print(str(round(avg_return_a, 5) * 100) + '%')"
   ]
  },
  {
   "cell_type": "code",
   "execution_count": 36,
   "metadata": {},
   "outputs": [
    {
     "data": {
      "text/html": [
       "<div>\n",
       "<style scoped>\n",
       "    .dataframe tbody tr th:only-of-type {\n",
       "        vertical-align: middle;\n",
       "    }\n",
       "\n",
       "    .dataframe tbody tr th {\n",
       "        vertical-align: top;\n",
       "    }\n",
       "\n",
       "    .dataframe thead th {\n",
       "        text-align: right;\n",
       "    }\n",
       "</style>\n",
       "<table border=\"1\" class=\"dataframe\">\n",
       "  <thead>\n",
       "    <tr style=\"text-align: right;\">\n",
       "      <th></th>\n",
       "      <th>High</th>\n",
       "      <th>Low</th>\n",
       "      <th>Open</th>\n",
       "      <th>Close</th>\n",
       "      <th>Volume</th>\n",
       "      <th>Adj Close</th>\n",
       "      <th>simple_return</th>\n",
       "    </tr>\n",
       "    <tr>\n",
       "      <th>Date</th>\n",
       "      <th></th>\n",
       "      <th></th>\n",
       "      <th></th>\n",
       "      <th></th>\n",
       "      <th></th>\n",
       "      <th></th>\n",
       "      <th></th>\n",
       "    </tr>\n",
       "  </thead>\n",
       "  <tbody>\n",
       "    <tr>\n",
       "      <th>1995-01-03</th>\n",
       "      <td>15.62500</td>\n",
       "      <td>15.43750</td>\n",
       "      <td>15.46875</td>\n",
       "      <td>15.59375</td>\n",
       "      <td>3318400.0</td>\n",
       "      <td>6.320252</td>\n",
       "      <td>NaN</td>\n",
       "    </tr>\n",
       "    <tr>\n",
       "      <th>1995-01-04</th>\n",
       "      <td>15.65625</td>\n",
       "      <td>15.31250</td>\n",
       "      <td>15.53125</td>\n",
       "      <td>15.46875</td>\n",
       "      <td>2218800.0</td>\n",
       "      <td>6.269589</td>\n",
       "      <td>-0.008016</td>\n",
       "    </tr>\n",
       "    <tr>\n",
       "      <th>1995-01-05</th>\n",
       "      <td>15.43750</td>\n",
       "      <td>15.21875</td>\n",
       "      <td>15.37500</td>\n",
       "      <td>15.25000</td>\n",
       "      <td>2319600.0</td>\n",
       "      <td>6.180927</td>\n",
       "      <td>-0.014142</td>\n",
       "    </tr>\n",
       "    <tr>\n",
       "      <th>1995-01-06</th>\n",
       "      <td>15.40625</td>\n",
       "      <td>15.15625</td>\n",
       "      <td>15.15625</td>\n",
       "      <td>15.28125</td>\n",
       "      <td>3438000.0</td>\n",
       "      <td>6.193593</td>\n",
       "      <td>0.002049</td>\n",
       "    </tr>\n",
       "    <tr>\n",
       "      <th>1995-01-09</th>\n",
       "      <td>15.40625</td>\n",
       "      <td>15.18750</td>\n",
       "      <td>15.34375</td>\n",
       "      <td>15.21875</td>\n",
       "      <td>1795200.0</td>\n",
       "      <td>6.168259</td>\n",
       "      <td>-0.004090</td>\n",
       "    </tr>\n",
       "  </tbody>\n",
       "</table>\n",
       "</div>"
      ],
      "text/plain": [
       "                High       Low      Open     Close     Volume  Adj Close  \\\n",
       "Date                                                                       \n",
       "1995-01-03  15.62500  15.43750  15.46875  15.59375  3318400.0   6.320252   \n",
       "1995-01-04  15.65625  15.31250  15.53125  15.46875  2218800.0   6.269589   \n",
       "1995-01-05  15.43750  15.21875  15.37500  15.25000  2319600.0   6.180927   \n",
       "1995-01-06  15.40625  15.15625  15.15625  15.28125  3438000.0   6.193593   \n",
       "1995-01-09  15.40625  15.18750  15.34375  15.21875  1795200.0   6.168259   \n",
       "\n",
       "            simple_return  \n",
       "Date                       \n",
       "1995-01-03            NaN  \n",
       "1995-01-04      -0.008016  \n",
       "1995-01-05      -0.014142  \n",
       "1995-01-06       0.002049  \n",
       "1995-01-09      -0.004090  "
      ]
     },
     "execution_count": 36,
     "metadata": {},
     "output_type": "execute_result"
    }
   ],
   "source": [
    "PG.head()"
   ]
  },
  {
   "cell_type": "markdown",
   "metadata": {},
   "source": [
    "#65_Calculating a security's Rate of Return\n",
    "\n",
    "### Log return\n",
    "$$\n",
    "ln(\\frac{P_t}{P_{t-1}}) \n",
    "$$"
   ]
  },
  {
   "cell_type": "code",
   "execution_count": 37,
   "metadata": {},
   "outputs": [
    {
     "name": "stdout",
     "output_type": "stream",
     "text": [
      "Date\n",
      "1995-01-03         NaN\n",
      "1995-01-04   -0.008048\n",
      "1995-01-05   -0.014243\n",
      "1995-01-06    0.002047\n",
      "1995-01-09   -0.004099\n",
      "1995-01-10    0.012245\n",
      "1995-01-11   -0.002030\n",
      "1995-01-12    0.010111\n",
      "1995-01-13    0.028810\n",
      "1995-01-16    0.007969\n",
      "1995-01-17    0.003961\n",
      "1995-01-18   -0.021978\n",
      "1995-01-19   -0.004049\n",
      "1995-01-20   -0.004065\n",
      "1995-01-23    0.010132\n",
      "1995-01-24   -0.002018\n",
      "1995-01-25    0.014042\n",
      "1995-01-26    0.003976\n",
      "1995-01-27    0.027399\n",
      "1995-01-30    0.015326\n",
      "1995-01-31   -0.009551\n",
      "1995-02-01   -0.019381\n",
      "1995-02-02    0.007798\n",
      "1995-02-03    0.009662\n",
      "1995-02-06    0.022815\n",
      "1995-02-07   -0.001881\n",
      "1995-02-08   -0.011364\n",
      "1995-02-09   -0.001907\n",
      "1995-02-10   -0.001910\n",
      "1995-02-13    0.007619\n",
      "                ...   \n",
      "2020-04-07   -0.043723\n",
      "2020-04-08    0.020451\n",
      "2020-04-09   -0.003830\n",
      "2020-04-13    0.011188\n",
      "2020-04-14    0.042301\n",
      "2020-04-15    0.002147\n",
      "2020-04-16    0.002307\n",
      "2020-04-17    0.025916\n",
      "2020-04-20   -0.033351\n",
      "2020-04-21   -0.007658\n",
      "2020-04-22   -0.002342\n",
      "2020-04-23    0.006647\n",
      "2020-04-24   -0.005206\n",
      "2020-04-27   -0.011260\n",
      "2020-04-28   -0.004779\n",
      "2020-04-29    0.001624\n",
      "2020-04-30    0.006725\n",
      "2020-05-01   -0.008948\n",
      "2020-05-04   -0.009029\n",
      "2020-05-05    0.002071\n",
      "2020-05-06   -0.025404\n",
      "2020-05-07   -0.008257\n",
      "2020-05-08    0.033143\n",
      "2020-05-11   -0.005535\n",
      "2020-05-12   -0.006613\n",
      "2020-05-13   -0.005515\n",
      "2020-05-14   -0.000966\n",
      "2020-05-15    0.007005\n",
      "2020-05-18    0.013864\n",
      "2020-05-19   -0.021660\n",
      "Name: log_return, Length: 6390, dtype: float64\n"
     ]
    }
   ],
   "source": [
    "PG['log_return'] = np.log(PG['Adj Close'] / PG['Adj Close'].shift(1))\n",
    "print(PG['log_return'])"
   ]
  },
  {
   "cell_type": "code",
   "execution_count": 38,
   "metadata": {},
   "outputs": [
    {
     "data": {
      "image/png": "[encoded data removed]",
      "text/plain": [
       "<Figure size 576x360 with 1 Axes>"
      ]
     },
     "metadata": {
      "needs_background": "light"
     },
     "output_type": "display_data"
    }
   ],
   "source": [
    "PG['log_return'].plot(figsize=(8, 5))\n",
    "plt.show()"
   ]
  },
  {
   "cell_type": "code",
   "execution_count": 39,
   "metadata": {},
   "outputs": [
    {
     "data": {
      "text/plain": [
       "0.00045233686429219897"
      ]
     },
     "execution_count": 39,
     "metadata": {},
     "output_type": "execute_result"
    }
   ],
   "source": [
    "log_return_d = PG['log_return'].mean()\n",
    "log_return_d"
   ]
  },
  {
   "cell_type": "code",
   "execution_count": 40,
   "metadata": {},
   "outputs": [
    {
     "data": {
      "text/plain": [
       "0.11308421607304975"
      ]
     },
     "execution_count": 40,
     "metadata": {},
     "output_type": "execute_result"
    }
   ],
   "source": [
    "log_return_a = PG['log_return'].mean() * 250\n",
    "log_return_a"
   ]
  },
  {
   "cell_type": "code",
   "execution_count": 41,
   "metadata": {},
   "outputs": [
    {
     "name": "stdout",
     "output_type": "stream",
     "text": [
      "11.308 %\n"
     ]
    }
   ],
   "source": [
    "print (str(round(log_return_a, 5) * 100) + ' %')"
   ]
  },
  {
   "cell_type": "markdown",
   "metadata": {},
   "source": [
    "#67_Calculating a security's Rate of Return\n",
    "## Calculating the Return of a Portfolio of Securities"
   ]
  },
  {
   "cell_type": "code",
   "execution_count": 55,
   "metadata": {},
   "outputs": [],
   "source": [
    "#get data from excel\n",
    "\n",
    "mydata = pd.read_csv('C:/Users/mdx/Documents/Python/Python for Finance Investment Fundamentals & Data Analytics_Udemy/4_stocks_1995_2017.csv',\n",
    "                 index_col = 'Date')"
   ]
  },
  {
   "cell_type": "code",
   "execution_count": 56,
   "metadata": {},
   "outputs": [
    {
     "name": "stdout",
     "output_type": "stream",
     "text": [
      "<class 'pandas.core.frame.DataFrame'>\n",
      "Index: 5779 entries, 1995-01-03 to 2017-12-12\n",
      "Data columns (total 4 columns):\n",
      "PG      5779 non-null float64\n",
      "MSFT    5779 non-null float64\n",
      "F       5779 non-null float64\n",
      "GE      5779 non-null float64\n",
      "dtypes: float64(4)\n",
      "memory usage: 225.7+ KB\n"
     ]
    }
   ],
   "source": [
    "mydata.info()"
   ]
  },
  {
   "cell_type": "code",
   "execution_count": 50,
   "metadata": {},
   "outputs": [
    {
     "data": {
      "text/html": [
       "<div>\n",
       "<style scoped>\n",
       "    .dataframe tbody tr th:only-of-type {\n",
       "        vertical-align: middle;\n",
       "    }\n",
       "\n",
       "    .dataframe tbody tr th {\n",
       "        vertical-align: top;\n",
       "    }\n",
       "\n",
       "    .dataframe thead th {\n",
       "        text-align: right;\n",
       "    }\n",
       "</style>\n",
       "<table border=\"1\" class=\"dataframe\">\n",
       "  <thead>\n",
       "    <tr style=\"text-align: right;\">\n",
       "      <th></th>\n",
       "      <th>PG</th>\n",
       "      <th>MSFT</th>\n",
       "      <th>F</th>\n",
       "      <th>GE</th>\n",
       "    </tr>\n",
       "    <tr>\n",
       "      <th>Date</th>\n",
       "      <th></th>\n",
       "      <th></th>\n",
       "      <th></th>\n",
       "      <th></th>\n",
       "    </tr>\n",
       "  </thead>\n",
       "  <tbody>\n",
       "    <tr>\n",
       "      <th>1995-01-03</th>\n",
       "      <td>8.960464</td>\n",
       "      <td>2.498429</td>\n",
       "      <td>5.091914</td>\n",
       "      <td>4.479902</td>\n",
       "    </tr>\n",
       "    <tr>\n",
       "      <th>1995-01-04</th>\n",
       "      <td>8.888638</td>\n",
       "      <td>2.516591</td>\n",
       "      <td>5.228918</td>\n",
       "      <td>4.479902</td>\n",
       "    </tr>\n",
       "    <tr>\n",
       "      <th>1995-01-05</th>\n",
       "      <td>8.762941</td>\n",
       "      <td>2.475080</td>\n",
       "      <td>5.183250</td>\n",
       "      <td>4.490882</td>\n",
       "    </tr>\n",
       "    <tr>\n",
       "      <th>1995-01-06</th>\n",
       "      <td>8.780898</td>\n",
       "      <td>2.516591</td>\n",
       "      <td>5.183250</td>\n",
       "      <td>4.468922</td>\n",
       "    </tr>\n",
       "    <tr>\n",
       "      <th>1995-01-09</th>\n",
       "      <td>8.744981</td>\n",
       "      <td>2.501024</td>\n",
       "      <td>5.274583</td>\n",
       "      <td>4.425002</td>\n",
       "    </tr>\n",
       "  </tbody>\n",
       "</table>\n",
       "</div>"
      ],
      "text/plain": [
       "                  PG      MSFT         F        GE\n",
       "Date                                              \n",
       "1995-01-03  8.960464  2.498429  5.091914  4.479902\n",
       "1995-01-04  8.888638  2.516591  5.228918  4.479902\n",
       "1995-01-05  8.762941  2.475080  5.183250  4.490882\n",
       "1995-01-06  8.780898  2.516591  5.183250  4.468922\n",
       "1995-01-09  8.744981  2.501024  5.274583  4.425002"
      ]
     },
     "execution_count": 50,
     "metadata": {},
     "output_type": "execute_result"
    }
   ],
   "source": [
    "mydata.head()"
   ]
  },
  {
   "cell_type": "code",
   "execution_count": 61,
   "metadata": {
    "scrolled": true
   },
   "outputs": [
    {
     "name": "stdout",
     "output_type": "stream",
     "text": [
      "<class 'pandas.core.frame.DataFrame'>\n",
      "DatetimeIndex: 6390 entries, 1995-01-03 to 2020-05-19\n",
      "Data columns (total 4 columns):\n",
      "PG      6390 non-null float64\n",
      "MSFT    6390 non-null float64\n",
      "F       6390 non-null float64\n",
      "GE      6390 non-null float64\n",
      "dtypes: float64(4)\n",
      "memory usage: 249.6 KB\n"
     ]
    }
   ],
   "source": [
    "#get data from web\n",
    "\n",
    "tickers = ['PG', 'MSFT', 'F', 'GE']\n",
    "mydata = pd.DataFrame()\n",
    "for t in tickers:\n",
    "    mydata[t] = wb.DataReader(t, data_source='yahoo', start='1995-1-1')['Adj Close']\n",
    "\n",
    "mydata.info()"
   ]
  },
  {
   "cell_type": "code",
   "execution_count": 62,
   "metadata": {
    "scrolled": true
   },
   "outputs": [
    {
     "data": {
      "text/html": [
       "<div>\n",
       "<style scoped>\n",
       "    .dataframe tbody tr th:only-of-type {\n",
       "        vertical-align: middle;\n",
       "    }\n",
       "\n",
       "    .dataframe tbody tr th {\n",
       "        vertical-align: top;\n",
       "    }\n",
       "\n",
       "    .dataframe thead th {\n",
       "        text-align: right;\n",
       "    }\n",
       "</style>\n",
       "<table border=\"1\" class=\"dataframe\">\n",
       "  <thead>\n",
       "    <tr style=\"text-align: right;\">\n",
       "      <th></th>\n",
       "      <th>PG</th>\n",
       "      <th>MSFT</th>\n",
       "      <th>F</th>\n",
       "      <th>GE</th>\n",
       "    </tr>\n",
       "    <tr>\n",
       "      <th>Date</th>\n",
       "      <th></th>\n",
       "      <th></th>\n",
       "      <th></th>\n",
       "      <th></th>\n",
       "    </tr>\n",
       "  </thead>\n",
       "  <tbody>\n",
       "    <tr>\n",
       "      <th>1995-01-03</th>\n",
       "      <td>6.320252</td>\n",
       "      <td>2.413537</td>\n",
       "      <td>3.256691</td>\n",
       "      <td>2.729230</td>\n",
       "    </tr>\n",
       "    <tr>\n",
       "      <th>1995-01-04</th>\n",
       "      <td>6.269589</td>\n",
       "      <td>2.431082</td>\n",
       "      <td>3.344314</td>\n",
       "      <td>2.729230</td>\n",
       "    </tr>\n",
       "    <tr>\n",
       "      <th>1995-01-05</th>\n",
       "      <td>6.180927</td>\n",
       "      <td>2.390982</td>\n",
       "      <td>3.315107</td>\n",
       "      <td>2.735919</td>\n",
       "    </tr>\n",
       "    <tr>\n",
       "      <th>1995-01-06</th>\n",
       "      <td>6.193593</td>\n",
       "      <td>2.431082</td>\n",
       "      <td>3.315107</td>\n",
       "      <td>2.722540</td>\n",
       "    </tr>\n",
       "    <tr>\n",
       "      <th>1995-01-09</th>\n",
       "      <td>6.168259</td>\n",
       "      <td>2.416045</td>\n",
       "      <td>3.373522</td>\n",
       "      <td>2.695783</td>\n",
       "    </tr>\n",
       "  </tbody>\n",
       "</table>\n",
       "</div>"
      ],
      "text/plain": [
       "                  PG      MSFT         F        GE\n",
       "Date                                              \n",
       "1995-01-03  6.320252  2.413537  3.256691  2.729230\n",
       "1995-01-04  6.269589  2.431082  3.344314  2.729230\n",
       "1995-01-05  6.180927  2.390982  3.315107  2.735919\n",
       "1995-01-06  6.193593  2.431082  3.315107  2.722540\n",
       "1995-01-09  6.168259  2.416045  3.373522  2.695783"
      ]
     },
     "execution_count": 62,
     "metadata": {},
     "output_type": "execute_result"
    }
   ],
   "source": [
    "mydata.head()"
   ]
  },
  {
   "cell_type": "markdown",
   "metadata": {},
   "source": [
    "### Normalization to 100 deppending on first row of data before plotting:\n",
    "\n",
    "$$\n",
    "\\frac {P_t}{P_0} * 100\n",
    "$$"
   ]
  },
  {
   "cell_type": "code",
   "execution_count": 65,
   "metadata": {},
   "outputs": [
    {
     "data": {
      "text/plain": [
       "PG      6.320252\n",
       "MSFT    2.413537\n",
       "F       3.256691\n",
       "GE      2.729230\n",
       "Name: 1995-01-03 00:00:00, dtype: float64"
      ]
     },
     "execution_count": 65,
     "metadata": {},
     "output_type": "execute_result"
    }
   ],
   "source": [
    "mydata.loc['1995-01-03']\n",
    "#or\n",
    "mydata.iloc[0]#first row"
   ]
  },
  {
   "cell_type": "code",
   "execution_count": 64,
   "metadata": {
    "scrolled": true
   },
   "outputs": [
    {
     "data": {
      "image/png": "[encoded data removed]",
      "text/plain": [
       "<Figure size 1080x432 with 1 Axes>"
      ]
     },
     "metadata": {
      "needs_background": "light"
     },
     "output_type": "display_data"
    }
   ],
   "source": [
    "(mydata / mydata.iloc[0] * 100).plot(figsize = (15, 6));\n",
    "plt.show()"
   ]
  },
  {
   "cell_type": "markdown",
   "metadata": {},
   "source": [
    "### Calculating the Return of our Portfolio "
   ]
  },
  {
   "cell_type": "code",
   "execution_count": 67,
   "metadata": {},
   "outputs": [
    {
     "data": {
      "text/html": [
       "<div>\n",
       "<style scoped>\n",
       "    .dataframe tbody tr th:only-of-type {\n",
       "        vertical-align: middle;\n",
       "    }\n",
       "\n",
       "    .dataframe tbody tr th {\n",
       "        vertical-align: top;\n",
       "    }\n",
       "\n",
       "    .dataframe thead th {\n",
       "        text-align: right;\n",
       "    }\n",
       "</style>\n",
       "<table border=\"1\" class=\"dataframe\">\n",
       "  <thead>\n",
       "    <tr style=\"text-align: right;\">\n",
       "      <th></th>\n",
       "      <th>PG</th>\n",
       "      <th>MSFT</th>\n",
       "      <th>F</th>\n",
       "      <th>GE</th>\n",
       "    </tr>\n",
       "    <tr>\n",
       "      <th>Date</th>\n",
       "      <th></th>\n",
       "      <th></th>\n",
       "      <th></th>\n",
       "      <th></th>\n",
       "    </tr>\n",
       "  </thead>\n",
       "  <tbody>\n",
       "    <tr>\n",
       "      <th>1995-01-03</th>\n",
       "      <td>NaN</td>\n",
       "      <td>NaN</td>\n",
       "      <td>NaN</td>\n",
       "      <td>NaN</td>\n",
       "    </tr>\n",
       "    <tr>\n",
       "      <th>1995-01-04</th>\n",
       "      <td>-0.008016</td>\n",
       "      <td>0.007269</td>\n",
       "      <td>0.026906</td>\n",
       "      <td>0.000000</td>\n",
       "    </tr>\n",
       "    <tr>\n",
       "      <th>1995-01-05</th>\n",
       "      <td>-0.014142</td>\n",
       "      <td>-0.016495</td>\n",
       "      <td>-0.008733</td>\n",
       "      <td>0.002451</td>\n",
       "    </tr>\n",
       "    <tr>\n",
       "      <th>1995-01-06</th>\n",
       "      <td>0.002049</td>\n",
       "      <td>0.016771</td>\n",
       "      <td>0.000000</td>\n",
       "      <td>-0.004890</td>\n",
       "    </tr>\n",
       "    <tr>\n",
       "      <th>1995-01-09</th>\n",
       "      <td>-0.004090</td>\n",
       "      <td>-0.006185</td>\n",
       "      <td>0.017621</td>\n",
       "      <td>-0.009828</td>\n",
       "    </tr>\n",
       "  </tbody>\n",
       "</table>\n",
       "</div>"
      ],
      "text/plain": [
       "                  PG      MSFT         F        GE\n",
       "Date                                              \n",
       "1995-01-03       NaN       NaN       NaN       NaN\n",
       "1995-01-04 -0.008016  0.007269  0.026906  0.000000\n",
       "1995-01-05 -0.014142 -0.016495 -0.008733  0.002451\n",
       "1995-01-06  0.002049  0.016771  0.000000 -0.004890\n",
       "1995-01-09 -0.004090 -0.006185  0.017621 -0.009828"
      ]
     },
     "execution_count": 67,
     "metadata": {},
     "output_type": "execute_result"
    }
   ],
   "source": [
    "#1 \n",
    "returns = (mydata / mydata.shift(1)) - 1\n",
    "returns.head()"
   ]
  },
  {
   "cell_type": "code",
   "execution_count": 73,
   "metadata": {},
   "outputs": [],
   "source": [
    "#2\n",
    "weights = np.array([0.25, 0.25, 0.25, 0.25])"
   ]
  },
  {
   "cell_type": "code",
   "execution_count": 75,
   "metadata": {},
   "outputs": [
    {
     "data": {
      "text/plain": [
       "array([        nan,  0.00653978, -0.0092298 , ..., -0.00329989,\n",
       "        0.06231621,  0.00153514])"
      ]
     },
     "execution_count": 75,
     "metadata": {},
     "output_type": "execute_result"
    }
   ],
   "source": [
    "#3 \n",
    "np.dot(returns, weights)\n",
    "\n",
    "#This function returns the dot product of two arrays. For 2-D vectors, it is the equivalent to matrix multiplication."
   ]
  },
  {
   "cell_type": "code",
   "execution_count": 76,
   "metadata": {},
   "outputs": [
    {
     "data": {
      "text/plain": [
       "PG      0.138989\n",
       "MSFT    0.220045\n",
       "F       0.099310\n",
       "GE      0.082698\n",
       "dtype: float64"
      ]
     },
     "execution_count": 76,
     "metadata": {},
     "output_type": "execute_result"
    }
   ],
   "source": [
    "annual_returns = returns.mean() * 250\n",
    "annual_returns"
   ]
  },
  {
   "cell_type": "code",
   "execution_count": 77,
   "metadata": {},
   "outputs": [
    {
     "data": {
      "text/plain": [
       "0.13526072920660098"
      ]
     },
     "execution_count": 77,
     "metadata": {},
     "output_type": "execute_result"
    }
   ],
   "source": [
    "np.dot(annual_returns, weights)"
   ]
  },
  {
   "cell_type": "code",
   "execution_count": 78,
   "metadata": {},
   "outputs": [
    {
     "name": "stdout",
     "output_type": "stream",
     "text": [
      "13.526 %\n"
     ]
    }
   ],
   "source": [
    "pfolio_1 = str(round(np.dot(annual_returns, weights), 5) * 100) + ' %'\n",
    "print (pfolio_1)"
   ]
  },
  {
   "cell_type": "code",
   "execution_count": 79,
   "metadata": {},
   "outputs": [],
   "source": [
    "weights_2 = np.array([0.4, 0.4, 0.15, 0.05])"
   ]
  },
  {
   "cell_type": "code",
   "execution_count": 80,
   "metadata": {},
   "outputs": [
    {
     "name": "stdout",
     "output_type": "stream",
     "text": [
      "13.526 %\n",
      "16.265 %\n"
     ]
    }
   ],
   "source": [
    "pfolio_2 = str(round(np.dot(annual_returns, weights_2), 5) * 100) + ' %'\n",
    "print (pfolio_1)\n",
    "print (pfolio_2)"
   ]
  },
  {
   "cell_type": "markdown",
   "metadata": {},
   "source": [
    "### Calculating the Return of market Indices"
   ]
  },
  {
   "cell_type": "code",
   "execution_count": 81,
   "metadata": {},
   "outputs": [],
   "source": [
    "tickers = ['^GSPC', '^IXIC', '^GDAXI']\n",
    "\n",
    "ind_data = pd.DataFrame()\n",
    "\n",
    "for t in tickers:\n",
    "    ind_data[t] = wb.DataReader(t, data_source='yahoo', start='1997-1-1')['Adj Close']"
   ]
  },
  {
   "cell_type": "code",
   "execution_count": 82,
   "metadata": {},
   "outputs": [
    {
     "data": {
      "text/html": [
       "<div>\n",
       "<style scoped>\n",
       "    .dataframe tbody tr th:only-of-type {\n",
       "        vertical-align: middle;\n",
       "    }\n",
       "\n",
       "    .dataframe tbody tr th {\n",
       "        vertical-align: top;\n",
       "    }\n",
       "\n",
       "    .dataframe thead th {\n",
       "        text-align: right;\n",
       "    }\n",
       "</style>\n",
       "<table border=\"1\" class=\"dataframe\">\n",
       "  <thead>\n",
       "    <tr style=\"text-align: right;\">\n",
       "      <th></th>\n",
       "      <th>^GSPC</th>\n",
       "      <th>^IXIC</th>\n",
       "      <th>^GDAXI</th>\n",
       "    </tr>\n",
       "    <tr>\n",
       "      <th>Date</th>\n",
       "      <th></th>\n",
       "      <th></th>\n",
       "      <th></th>\n",
       "    </tr>\n",
       "  </thead>\n",
       "  <tbody>\n",
       "    <tr>\n",
       "      <th>1997-01-02</th>\n",
       "      <td>737.010010</td>\n",
       "      <td>1280.699951</td>\n",
       "      <td>2820.810059</td>\n",
       "    </tr>\n",
       "    <tr>\n",
       "      <th>1997-01-03</th>\n",
       "      <td>748.030029</td>\n",
       "      <td>1310.680054</td>\n",
       "      <td>2863.260010</td>\n",
       "    </tr>\n",
       "    <tr>\n",
       "      <th>1997-01-06</th>\n",
       "      <td>747.650024</td>\n",
       "      <td>1316.400024</td>\n",
       "      <td>2890.199951</td>\n",
       "    </tr>\n",
       "    <tr>\n",
       "      <th>1997-01-07</th>\n",
       "      <td>753.229980</td>\n",
       "      <td>1327.729980</td>\n",
       "      <td>2876.340088</td>\n",
       "    </tr>\n",
       "    <tr>\n",
       "      <th>1997-01-08</th>\n",
       "      <td>748.409973</td>\n",
       "      <td>1320.349976</td>\n",
       "      <td>2904.080078</td>\n",
       "    </tr>\n",
       "  </tbody>\n",
       "</table>\n",
       "</div>"
      ],
      "text/plain": [
       "                 ^GSPC        ^IXIC       ^GDAXI\n",
       "Date                                            \n",
       "1997-01-02  737.010010  1280.699951  2820.810059\n",
       "1997-01-03  748.030029  1310.680054  2863.260010\n",
       "1997-01-06  747.650024  1316.400024  2890.199951\n",
       "1997-01-07  753.229980  1327.729980  2876.340088\n",
       "1997-01-08  748.409973  1320.349976  2904.080078"
      ]
     },
     "execution_count": 82,
     "metadata": {},
     "output_type": "execute_result"
    }
   ],
   "source": [
    "ind_data.head()"
   ]
  },
  {
   "cell_type": "code",
   "execution_count": 83,
   "metadata": {},
   "outputs": [
    {
     "data": {
      "image/png": "[encoded data removed]",
      "text/plain": [
       "<Figure size 1080x432 with 1 Axes>"
      ]
     },
     "metadata": {
      "needs_background": "light"
     },
     "output_type": "display_data"
    }
   ],
   "source": [
    "(ind_data / ind_data.iloc[0] * 100).plot(figsize=(15, 6));\n",
    "plt.show()"
   ]
  },
  {
   "cell_type": "code",
   "execution_count": 84,
   "metadata": {},
   "outputs": [
    {
     "data": {
      "text/html": [
       "<div>\n",
       "<style scoped>\n",
       "    .dataframe tbody tr th:only-of-type {\n",
       "        vertical-align: middle;\n",
       "    }\n",
       "\n",
       "    .dataframe tbody tr th {\n",
       "        vertical-align: top;\n",
       "    }\n",
       "\n",
       "    .dataframe thead th {\n",
       "        text-align: right;\n",
       "    }\n",
       "</style>\n",
       "<table border=\"1\" class=\"dataframe\">\n",
       "  <thead>\n",
       "    <tr style=\"text-align: right;\">\n",
       "      <th></th>\n",
       "      <th>^GSPC</th>\n",
       "      <th>^IXIC</th>\n",
       "      <th>^GDAXI</th>\n",
       "    </tr>\n",
       "    <tr>\n",
       "      <th>Date</th>\n",
       "      <th></th>\n",
       "      <th></th>\n",
       "      <th></th>\n",
       "    </tr>\n",
       "  </thead>\n",
       "  <tbody>\n",
       "    <tr>\n",
       "      <th>2020-05-13</th>\n",
       "      <td>-0.017463</td>\n",
       "      <td>-0.015482</td>\n",
       "      <td>-0.025587</td>\n",
       "    </tr>\n",
       "    <tr>\n",
       "      <th>2020-05-14</th>\n",
       "      <td>0.011525</td>\n",
       "      <td>0.009088</td>\n",
       "      <td>-0.019506</td>\n",
       "    </tr>\n",
       "    <tr>\n",
       "      <th>2020-05-15</th>\n",
       "      <td>0.003926</td>\n",
       "      <td>0.007921</td>\n",
       "      <td>0.012397</td>\n",
       "    </tr>\n",
       "    <tr>\n",
       "      <th>2020-05-18</th>\n",
       "      <td>0.031501</td>\n",
       "      <td>0.024435</td>\n",
       "      <td>0.056731</td>\n",
       "    </tr>\n",
       "    <tr>\n",
       "      <th>2020-05-19</th>\n",
       "      <td>0.001496</td>\n",
       "      <td>0.007707</td>\n",
       "      <td>0.001485</td>\n",
       "    </tr>\n",
       "  </tbody>\n",
       "</table>\n",
       "</div>"
      ],
      "text/plain": [
       "               ^GSPC     ^IXIC    ^GDAXI\n",
       "Date                                    \n",
       "2020-05-13 -0.017463 -0.015482 -0.025587\n",
       "2020-05-14  0.011525  0.009088 -0.019506\n",
       "2020-05-15  0.003926  0.007921  0.012397\n",
       "2020-05-18  0.031501  0.024435  0.056731\n",
       "2020-05-19  0.001496  0.007707  0.001485"
      ]
     },
     "execution_count": 84,
     "metadata": {},
     "output_type": "execute_result"
    }
   ],
   "source": [
    "ind_returns = (ind_data / ind_data.shift(1)) - 1\n",
    "\n",
    "ind_returns.tail()"
   ]
  },
  {
   "cell_type": "code",
   "execution_count": 85,
   "metadata": {},
   "outputs": [
    {
     "data": {
      "text/plain": [
       "^GSPC     0.078530\n",
       "^IXIC     0.116207\n",
       "^GDAXI    0.072774\n",
       "dtype: float64"
      ]
     },
     "execution_count": 85,
     "metadata": {},
     "output_type": "execute_result"
    }
   ],
   "source": [
    "annual_ind_returns = ind_returns.mean() * 250\n",
    "annual_ind_returns"
   ]
  },
  {
   "cell_type": "code",
   "execution_count": 86,
   "metadata": {},
   "outputs": [],
   "source": [
    "tickers = ['PG', '^GSPC', '^DJI']\n",
    "\n",
    "data_2 = pd.DataFrame()\n",
    "\n",
    "for t in tickers:\n",
    "    data_2[t] = wb.DataReader(t, data_source='yahoo', start='2007-1-1')['Adj Close']    "
   ]
  },
  {
   "cell_type": "code",
   "execution_count": 87,
   "metadata": {},
   "outputs": [
    {
     "data": {
      "text/html": [
       "<div>\n",
       "<style scoped>\n",
       "    .dataframe tbody tr th:only-of-type {\n",
       "        vertical-align: middle;\n",
       "    }\n",
       "\n",
       "    .dataframe tbody tr th {\n",
       "        vertical-align: top;\n",
       "    }\n",
       "\n",
       "    .dataframe thead th {\n",
       "        text-align: right;\n",
       "    }\n",
       "</style>\n",
       "<table border=\"1\" class=\"dataframe\">\n",
       "  <thead>\n",
       "    <tr style=\"text-align: right;\">\n",
       "      <th></th>\n",
       "      <th>PG</th>\n",
       "      <th>^GSPC</th>\n",
       "      <th>^DJI</th>\n",
       "    </tr>\n",
       "    <tr>\n",
       "      <th>Date</th>\n",
       "      <th></th>\n",
       "      <th></th>\n",
       "      <th></th>\n",
       "    </tr>\n",
       "  </thead>\n",
       "  <tbody>\n",
       "    <tr>\n",
       "      <th>2020-05-13</th>\n",
       "      <td>113.919998</td>\n",
       "      <td>2820.000000</td>\n",
       "      <td>23247.970703</td>\n",
       "    </tr>\n",
       "    <tr>\n",
       "      <th>2020-05-14</th>\n",
       "      <td>113.809998</td>\n",
       "      <td>2852.500000</td>\n",
       "      <td>23625.339844</td>\n",
       "    </tr>\n",
       "    <tr>\n",
       "      <th>2020-05-15</th>\n",
       "      <td>114.610001</td>\n",
       "      <td>2863.699951</td>\n",
       "      <td>23685.419922</td>\n",
       "    </tr>\n",
       "    <tr>\n",
       "      <th>2020-05-18</th>\n",
       "      <td>116.209999</td>\n",
       "      <td>2953.909912</td>\n",
       "      <td>24597.369141</td>\n",
       "    </tr>\n",
       "    <tr>\n",
       "      <th>2020-05-19</th>\n",
       "      <td>113.470001</td>\n",
       "      <td>2958.419922</td>\n",
       "      <td>24546.609375</td>\n",
       "    </tr>\n",
       "  </tbody>\n",
       "</table>\n",
       "</div>"
      ],
      "text/plain": [
       "                    PG        ^GSPC          ^DJI\n",
       "Date                                             \n",
       "2020-05-13  113.919998  2820.000000  23247.970703\n",
       "2020-05-14  113.809998  2852.500000  23625.339844\n",
       "2020-05-15  114.610001  2863.699951  23685.419922\n",
       "2020-05-18  116.209999  2953.909912  24597.369141\n",
       "2020-05-19  113.470001  2958.419922  24546.609375"
      ]
     },
     "execution_count": 87,
     "metadata": {},
     "output_type": "execute_result"
    }
   ],
   "source": [
    "data_2.tail()"
   ]
  },
  {
   "cell_type": "code",
   "execution_count": 88,
   "metadata": {},
   "outputs": [
    {
     "data": {
      "image/png": "[encoded data removed]",
      "text/plain": [
       "<Figure size 1080x432 with 1 Axes>"
      ]
     },
     "metadata": {
      "needs_background": "light"
     },
     "output_type": "display_data"
    }
   ],
   "source": [
    "(data_2 / data_2.iloc[0] * 100).plot(figsize=(15, 6));\n",
    "plt.show()"
   ]
  },
  {
   "cell_type": "code",
   "execution_count": null,
   "metadata": {},
   "outputs": [],
   "source": []
  }
 ],
 "metadata": {
  "kernelspec": {
   "display_name": "Python 3",
   "language": "python",
   "name": "python3"
  },
  "language_info": {
   "codemirror_mode": {
    "name": "ipython",
    "version": 3
   },
   "file_extension": ".py",
   "mimetype": "text/x-python",
   "name": "python",
   "nbconvert_exporter": "python",
   "pygments_lexer": "ipython3",
   "version": "3.7.3"
  }
 },
 "nbformat": 4,
 "nbformat_minor": 2
}
